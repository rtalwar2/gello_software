{
 "cells": [
  {
   "cell_type": "code",
   "execution_count": null,
   "metadata": {},
   "outputs": [],
   "source": [
    "demo_path = \"/home/tlips/bc_data/planar_push/gello\"\n",
    "import os \n",
    "\n",
    "demos = os.listdir(demo_path)\n",
    "print(demos)\n",
    "demo = demos[1]"
   ]
  },
  {
   "cell_type": "code",
   "execution_count": null,
   "metadata": {},
   "outputs": [],
   "source": [
    "pickles = os.listdir(os.path.join(demo_path, demo))\n",
    "# order by time\n",
    "pickles.sort()\n",
    "\n",
    "print(pickles)\n",
    "\n",
    "pickle_path = pickles[0]"
   ]
  },
  {
   "cell_type": "code",
   "execution_count": null,
   "metadata": {},
   "outputs": [],
   "source": [
    "import pickle\n",
    "\n",
    "obs = pickle.load(open(os.path.join(demo_path, demo ,pickle_path),\"rb\"))"
   ]
  },
  {
   "cell_type": "code",
   "execution_count": null,
   "metadata": {},
   "outputs": [],
   "source": [
    "print(obs.keys())\n",
    "# for k,v in obs.items():\n",
    "#     print(k)\n",
    "#     print(v)"
   ]
  },
  {
   "cell_type": "code",
   "execution_count": null,
   "metadata": {},
   "outputs": [],
   "source": [
    "positions = []\n",
    "for pickle_path in pickles:\n",
    "    obs = pickle.load(open(os.path.join(demo_path, demo ,pickle_path),\"rb\"))\n",
    "    pose = obs[\"tcp_pose_quat\"]\n",
    "    position = pose[:3]\n",
    "    positions.append(position)"
   ]
  },
  {
   "cell_type": "code",
   "execution_count": null,
   "metadata": {},
   "outputs": [],
   "source": [
    "import open3d \n",
    "\n",
    "# jet color scheme \n",
    "# import cv2\n",
    "import numpy as np\n",
    "\n",
    "# visualize the positions\n",
    "pcd = open3d.geometry.PointCloud()\n",
    "# encode the colors using the spectral color scheme according to time\n",
    "\n",
    "pcd.points = open3d.utility.Vector3dVector(positions)\n",
    "colors = []\n",
    "for i in range(len(positions)):\n",
    "    color = cv2.applyColorMap(np.array(i/len(positions)*255,dtype=np.uint8), cv2.COLORMAP_CIVIDIS)\n",
    "    colors.append(color[0][0]/255)\n",
    "\n",
    "\n",
    "\n",
    "pcd.colors = open3d.utility.Vector3dVector(colors)\n",
    "\n",
    "# add a coordinate frame of the robot\n",
    "frame = open3d.geometry.TriangleMesh.create_coordinate_frame(size=0.1, origin=[0,0,0])\n",
    "\n",
    "open3d.visualization.draw_geometries([pcd, frame])\n"
   ]
  },
  {
   "cell_type": "code",
   "execution_count": null,
   "metadata": {},
   "outputs": [],
   "source": []
  },
  {
   "cell_type": "code",
   "execution_count": null,
   "metadata": {},
   "outputs": [],
   "source": [
    "# get the wrist camera images and display them \n",
    "import cv2\n",
    "import numpy as np\n",
    "import matplotlib.pyplot as plt\n",
    "\n",
    "wrist_images = []\n",
    "base_images = []\n",
    "for pickle_path in pickles:\n",
    "    obs = pickle.load(open(os.path.join(demo_path, demo ,pickle_path),\"rb\"))\n",
    "    img = obs[\"wrist_rgb\"]\n",
    "   # img = cv2.cvtColor(img, cv2.COLOR_BGR2RGB)\n",
    "    img = img.astype(np.uint8)\n",
    "    wrist_images.append(img)\n",
    "\n",
    "    img = obs[\"base_rgb\"]\n",
    "    img = img.astype(np.uint8)\n",
    "    base_images.append(img)\n",
    "\n",
    "# create ipywidget slider to display the  numpy array images\n",
    "import ipywidgets as widgets\n",
    "from IPython.display import display\n",
    "slider = widgets.IntSlider(min=0, max=len(wrist_images)-1)\n",
    "\n",
    "def view_image(i):\n",
    "    wrist_img = wrist_images[i]\n",
    "    base_img = base_images[i]\n",
    "    \n",
    "    # display the image\n",
    "    fig, ax = plt.subplots(1,2)\n",
    "    ax[0].imshow(wrist_img)\n",
    "    ax[1].imshow(base_img)\n",
    "    plt.show()\n",
    "\n",
    "image_widget = widgets.interactive(view_image, i=slider)\n",
    "display(image_widget)\n"
   ]
  },
  {
   "cell_type": "code",
   "execution_count": null,
   "metadata": {},
   "outputs": [],
   "source": [
    "# visualize the FT wrench timeseries\n",
    "\n",
    "ft_wrench = []\n",
    "for pickle_path in pickles:\n",
    "    obs = pickle.load(open(os.path.join(demo_path, demo ,pickle_path),\"rb\"))\n",
    "    ft = obs[\"wrench\"]\n",
    "    ft_wrench.append(ft)\n",
    "\n",
    "\n",
    "ft_wrench = np.array(ft_wrench)\n",
    "\n",
    "# plot the timeseries\n",
    "plt.plot(ft_wrench)\n",
    "plt.xlabel(\"time\")\n",
    "plt.ylabel(\"force (N) / torque (Nm)\")\n",
    "plt.legend([\"fx\", \"fy\", \"fz\", \"tx\", \"ty\", \"tz\"])\n"
   ]
  }
 ],
 "metadata": {
  "kernelspec": {
   "display_name": "gello",
   "language": "python",
   "name": "python3"
  },
  "language_info": {
   "codemirror_mode": {
    "name": "ipython",
    "version": 3
   },
   "file_extension": ".py",
   "mimetype": "text/x-python",
   "name": "python",
   "nbconvert_exporter": "python",
   "pygments_lexer": "ipython3",
   "version": "3.11.9"
  }
 },
 "nbformat": 4,
 "nbformat_minor": 2
}
